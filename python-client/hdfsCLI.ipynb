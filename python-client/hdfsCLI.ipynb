{
 "cells": [
  {
   "cell_type": "markdown",
   "metadata": {},
   "source": [
    "# Note book de test de l'utilisation de la library HdfsCli\n",
    "## Realisation d'opérations de base \n",
    "- creation de repertoires\n",
    "- liste (ls) des fichiers et repertoires HDFS\n",
    "- lecture des carateristiques de fichiers\n",
    "- upload de fichiers vers HDFS\n",
    "- download de fichiers depuis HDFS\n",
    "- suppression de fichiers et de repertoires\n",
    "\n",
    "## Resolution @ip des datanodes\n",
    "A noter qu'il est necéssaire que la machine qui execute le notebook jupyter doit avoir la resolution des @ip des datanodes du cluster hdfs\n",
    "Cela peut etre fait simplement dans le /etc/hosts ; par exemple:\n",
    "51.75.248.35 datanode\n",
    "51.75.248.35 datanode-public\n",
    "51.75.248.35 datanode1\n",
    "51.75.248.35 datanode2\n",
    "\n",
    "## Sandbox docker d'un cluster HDFS \n",
    "https://github.com/pevn14/hadoop-hdfs-sandbox"
   ]
  },
  {
   "cell_type": "code",
   "execution_count": 1,
   "metadata": {},
   "outputs": [],
   "source": [
    "from hdfs import InsecureClient, HdfsError"
   ]
  },
  {
   "cell_type": "code",
   "execution_count": 2,
   "metadata": {},
   "outputs": [],
   "source": [
    "# server = 'http://192.168.1.31:9870'\n",
    "server = 'http://vps-cf21ed4b.vps.ovh.net:9870'\n",
    "# ne pas oublier de declarer les ip des datanodes dans /etc/hosts\n",
    "client = InsecureClient(server, user='hadoop')"
   ]
  },
  {
   "cell_type": "code",
   "execution_count": 3,
   "metadata": {},
   "outputs": [
    {
     "name": "stdout",
     "output_type": "stream",
     "text": [
      "[]\n"
     ]
    }
   ],
   "source": [
    "# Lister les repertoires et fichiers dans la racine HDFS\n",
    "files = client.list('/')\n",
    "print(files)"
   ]
  },
  {
   "cell_type": "code",
   "execution_count": 22,
   "metadata": {},
   "outputs": [
    {
     "data": {
      "text/plain": [
       "True"
      ]
     },
     "execution_count": 22,
     "metadata": {},
     "output_type": "execute_result"
    }
   ],
   "source": [
    "# supprimer le repertoire de test HDFS ; pour demarrer sur config de test propre\n",
    "file = '/test-client-hdfs'\n",
    "client.delete(file, recursive=True)  # flag recursive car repertoire non vide"
   ]
  },
  {
   "cell_type": "code",
   "execution_count": 23,
   "metadata": {},
   "outputs": [],
   "source": [
    "# creer un repertoire pour les tests \n",
    "client.makedirs('/test-client-hdfs')"
   ]
  },
  {
   "cell_type": "code",
   "execution_count": 7,
   "metadata": {},
   "outputs": [],
   "source": [
    "# Copier un fichier local vers HDFS\n",
    "file = '/home/patrick/working/hadoop-hdfs-sandbox/lorem-ipsum-generator/lorem_ipsum_10k_lines.txt'\n",
    "try:\n",
    "    ret = client.upload('/test-client-hdfs', file, overwrite=True)  # avec le flag overwrite\n",
    "except HdfsError as e:\n",
    "    print(f\"Une erreur s'est produite lors de l'upload : {e}\")    "
   ]
  },
  {
   "cell_type": "code",
   "execution_count": 9,
   "metadata": {},
   "outputs": [
    {
     "name": "stdout",
     "output_type": "stream",
     "text": [
      "Une erreur s'est produite lors de l'upload : Remote path '/test-client-hdfs/lorem_ipsum_10m_lines.txt' already exists.\n"
     ]
    }
   ],
   "source": [
    "# Copier un fichier local de 10 million de lignes vers HDFS\n",
    "# prend quelques minutes\n",
    "file = '/home/patrick/working/hadoop-hdfs-sandbox/lorem-ipsum-generator/lorem_ipsum_10m_lines.txt'\n",
    "try:\n",
    "    ret = client.upload('/test-client-hdfs', file) # sans le flag overwrite\n",
    "except HdfsError as e:\n",
    "    print(f\"Une erreur s'est produite lors de l'upload : {e}\")  # tentez l'overwrite pour declencher l'erreur "
   ]
  },
  {
   "cell_type": "code",
   "execution_count": 10,
   "metadata": {},
   "outputs": [
    {
     "name": "stdout",
     "output_type": "stream",
     "text": [
      "Une erreur s'est produite lors de l'upload : Local path 'un-fichier-qui-n-existe-pas.txt' does not exist.\n"
     ]
    }
   ],
   "source": [
    "# Copier un fichier local vers HDFS en une erreur\n",
    "file = 'un-fichier-qui-n-existe-pas.txt'\n",
    "try:\n",
    "    ret = client.upload('/test-client-hdfs', file, overwrite=True)  # avec le flag overwrite\n",
    "except HdfsError as e:\n",
    "    print(f\"Une erreur s'est produite lors de l'upload : {e}\")    "
   ]
  },
  {
   "cell_type": "code",
   "execution_count": 11,
   "metadata": {},
   "outputs": [
    {
     "name": "stdout",
     "output_type": "stream",
     "text": [
      "['lorem_ipsum_10k_lines.txt', 'lorem_ipsum_10m_lines.txt']\n"
     ]
    }
   ],
   "source": [
    "# Lister les fichiers du repertoire de test\n",
    "files = client.list('/test-client-hdfs')\n",
    "print(files)"
   ]
  },
  {
   "cell_type": "code",
   "execution_count": 24,
   "metadata": {},
   "outputs": [],
   "source": [
    "# Upload de fichiers vers HDFS en mode ligne par ligne\n",
    "# Chemin du fichier local\n",
    "local_path = '/home/patrick/working/hadoop-hdfs-sandbox/lorem-ipsum-generator/lorem_ipsum_100k_lines.txt'\n",
    "\n",
    "# Chemin du fichier dans HDFS\n",
    "hdfs_path = '/test-client-hdfs/file.txt'\n",
    "\n",
    "try:\n",
    "    with open(local_path, 'r', encoding='utf-8') as reader, client.write(hdfs_path, encoding='utf-8') as writer:\n",
    "        for line in reader:\n",
    "            writer.write(line)\n",
    "except HdfsError as e:\n",
    "    print(f\"Une erreur s'est produite lors de l'upload : {e}\")  # testez l'erreur avec une tentative d'overwrite"
   ]
  },
  {
   "cell_type": "code",
   "execution_count": 15,
   "metadata": {},
   "outputs": [
    {
     "name": "stdout",
     "output_type": "stream",
     "text": [
      "['file.txt', 'lorem_ipsum_10k_lines.txt', 'lorem_ipsum_10m_lines.txt']\n"
     ]
    }
   ],
   "source": [
    "# Lister les fichiers du répertoire hdsf\n",
    "files = client.list('/test-client-hdfs')\n",
    "print(files)"
   ]
  },
  {
   "cell_type": "code",
   "execution_count": 16,
   "metadata": {},
   "outputs": [
    {
     "name": "stdout",
     "output_type": "stream",
     "text": [
      "{'accessTime': 1709996149379, 'blockSize': 134217728, 'childrenNum': 0, 'fileId': 16408, 'group': 'supergroup', 'length': 936397436, 'modificationTime': 1709996229303, 'owner': 'hadoop', 'pathSuffix': '', 'permission': '644', 'replication': 3, 'storagePolicy': 0, 'type': 'FILE'}\n",
      "{'directoryCount': 0, 'ecPolicy': 'Replicated', 'fileCount': 1, 'length': 936397436, 'quota': -1, 'snapshotDirectoryCount': 0, 'snapshotFileCount': 0, 'snapshotLength': 0, 'snapshotSpaceConsumed': 0, 'spaceConsumed': 2809192308, 'spaceQuota': -1, 'typeQuota': {}}\n"
     ]
    }
   ],
   "source": [
    "# Retrieving a file or folder status and content summary\n",
    "file = '/test-client-hdfs/lorem_ipsum_10m_lines.txt'\n",
    "status = client.status(file)\n",
    "content = client.content(file)\n",
    "print(status)\n",
    "print(content)"
   ]
  },
  {
   "cell_type": "code",
   "execution_count": 17,
   "metadata": {},
   "outputs": [
    {
     "data": {
      "text/plain": [
       "'/home/patrick/working/hadoop-hdfs-sandbox/python-client/file_download'"
      ]
     },
     "execution_count": 17,
     "metadata": {},
     "output_type": "execute_result"
    }
   ],
   "source": [
    "# Copier des fichiers depuis HDFS vers local\n",
    "file = '/test-client-hdfs/lorem_ipsum_10k_lines.txt'\n",
    "client.download(file, 'file_download', overwrite=True)"
   ]
  },
  {
   "cell_type": "code",
   "execution_count": 18,
   "metadata": {},
   "outputs": [
    {
     "data": {
      "text/plain": [
       "True"
      ]
     },
     "execution_count": 18,
     "metadata": {},
     "output_type": "execute_result"
    }
   ],
   "source": [
    "# supprimer un fichier du repertoire HDFS\n",
    "file = '/test-client-hdfs/lorem_ipsum_10k_lines.txt'\n",
    "client.delete(file)"
   ]
  },
  {
   "cell_type": "code",
   "execution_count": 19,
   "metadata": {},
   "outputs": [
    {
     "data": {
      "text/plain": [
       "True"
      ]
     },
     "execution_count": 19,
     "metadata": {},
     "output_type": "execute_result"
    }
   ],
   "source": [
    "# netoyage du repertoire de test HDFS\n",
    "file = '/test-client-hdfs'\n",
    "client.delete(file, recursive=True)  # flag recursive car repertoire non vide"
   ]
  }
 ],
 "metadata": {
  "kernelspec": {
   "display_name": "Python 3",
   "language": "python",
   "name": "python3"
  },
  "language_info": {
   "codemirror_mode": {
    "name": "ipython",
    "version": 3
   },
   "file_extension": ".py",
   "mimetype": "text/x-python",
   "name": "python",
   "nbconvert_exporter": "python",
   "pygments_lexer": "ipython3",
   "version": "3.11.6"
  }
 },
 "nbformat": 4,
 "nbformat_minor": 2
}
